{
 "cells": [
  {
   "cell_type": "code",
   "execution_count": 11,
   "metadata": {},
   "outputs": [
    {
     "output_type": "error",
     "ename": "ModuleNotFoundError",
     "evalue": "No module named 'model'",
     "traceback": [
      "\u001b[0;31m---------------------------------------------------------------------------\u001b[0m",
      "\u001b[0;31mModuleNotFoundError\u001b[0m                       Traceback (most recent call last)",
      "\u001b[0;32m<ipython-input-11-2664b3ef4c43>\u001b[0m in \u001b[0;36m<module>\u001b[0;34m()\u001b[0m\n\u001b[1;32m      3\u001b[0m \u001b[0;32mfrom\u001b[0m \u001b[0mpickle\u001b[0m \u001b[0;32mimport\u001b[0m \u001b[0mload\u001b[0m\u001b[0;34m\u001b[0m\u001b[0;34m\u001b[0m\u001b[0m\n\u001b[1;32m      4\u001b[0m \u001b[0;32mfrom\u001b[0m \u001b[0msklearn\u001b[0m\u001b[0;34m.\u001b[0m\u001b[0mlinear_model\u001b[0m \u001b[0;32mimport\u001b[0m \u001b[0mLinearRegression\u001b[0m\u001b[0;34m\u001b[0m\u001b[0;34m\u001b[0m\u001b[0m\n\u001b[0;32m----> 5\u001b[0;31m \u001b[0;32mimport\u001b[0m \u001b[0mmodel\u001b[0m\u001b[0;34m\u001b[0m\u001b[0;34m\u001b[0m\u001b[0m\n\u001b[0m\u001b[1;32m      6\u001b[0m \u001b[0;32mimport\u001b[0m \u001b[0mdata_clean\u001b[0m \u001b[0;32mas\u001b[0m \u001b[0mdc\u001b[0m\u001b[0;34m\u001b[0m\u001b[0;34m\u001b[0m\u001b[0m\n",
      "\u001b[0;31mModuleNotFoundError\u001b[0m: No module named 'model'"
     ]
    }
   ],
   "source": [
    "import pandas as pd\n",
    "pd.set_option('display.max_columns', 300)\n",
    "from pickle import load\n",
    "from sklearn.linear_model import LinearRegression\n",
    "import model \n",
    "import data_clean as dc"
   ]
  },
  {
   "cell_type": "markdown",
   "metadata": {},
   "source": [
    "## Step 1: Read in hold out data, scalers, and best model"
   ]
  },
  {
   "cell_type": "code",
   "execution_count": 2,
   "metadata": {},
   "outputs": [],
   "source": [
    "holdout = pd.read_csv('./data/kc_house_data_test_features.csv', index_col=0)"
   ]
  },
  {
   "cell_type": "code",
   "execution_count": 9,
   "metadata": {},
   "outputs": [],
   "source": [
    "# final_scaler = read_pickle(filename)\n",
    "final_model = load(open(\"./code/model.pkl\",\"rb\"))"
   ]
  },
  {
   "cell_type": "markdown",
   "metadata": {},
   "source": [
    "## Step 2: Feature Engineering for holdout set"
   ]
  },
  {
   "cell_type": "markdown",
   "metadata": {},
   "source": [
    "Remember we have to perform the same transformations on our holdout data (feature engineering, extreme values, and scaling) that we performed on the original data."
   ]
  },
  {
   "cell_type": "code",
   "execution_count": 10,
   "metadata": {},
   "outputs": [
    {
     "output_type": "execute_result",
     "data": {
      "text/plain": [
       "           id             date  bedrooms  bathrooms  sqft_living  sqft_lot  \\\n",
       "0  1974300020  20140827T000000         4       2.50         2270     11500   \n",
       "1  1974300020  20150218T000000         4       2.50         2270     11500   \n",
       "2  3630020380  20141107T000000         3       2.50         1470      1779   \n",
       "3  1771000290  20141203T000000         3       1.75         1280     16200   \n",
       "4  5126310470  20150115T000000         4       2.75         2830      8126   \n",
       "\n",
       "   floors  waterfront  view  condition  grade  sqft_above  sqft_basement  \\\n",
       "0     1.0           0     0          3      8        1540            730   \n",
       "1     1.0           0     0          3      8        1540            730   \n",
       "2     2.0           0     0          3      8        1160            310   \n",
       "3     1.0           0     0          3      8        1030            250   \n",
       "4     2.0           0     0          3      8        2830              0   \n",
       "\n",
       "   yr_built  yr_renovated  zipcode      lat     long  sqft_living15  \\\n",
       "0      1967             0    98034  47.7089 -122.241           2020   \n",
       "1      1967             0    98034  47.7089 -122.241           2020   \n",
       "2      2005             0    98029  47.5472 -121.998           1470   \n",
       "3      1976             0    98077  47.7427 -122.071           1160   \n",
       "4      2005             0    98059  47.4863 -122.140           2830   \n",
       "\n",
       "   sqft_lot15  \n",
       "0       10918  \n",
       "1       10918  \n",
       "2        1576  \n",
       "3       10565  \n",
       "4        7916  "
      ],
      "text/html": "<div>\n<style scoped>\n    .dataframe tbody tr th:only-of-type {\n        vertical-align: middle;\n    }\n\n    .dataframe tbody tr th {\n        vertical-align: top;\n    }\n\n    .dataframe thead th {\n        text-align: right;\n    }\n</style>\n<table border=\"1\" class=\"dataframe\">\n  <thead>\n    <tr style=\"text-align: right;\">\n      <th></th>\n      <th>id</th>\n      <th>date</th>\n      <th>bedrooms</th>\n      <th>bathrooms</th>\n      <th>sqft_living</th>\n      <th>sqft_lot</th>\n      <th>floors</th>\n      <th>waterfront</th>\n      <th>view</th>\n      <th>condition</th>\n      <th>grade</th>\n      <th>sqft_above</th>\n      <th>sqft_basement</th>\n      <th>yr_built</th>\n      <th>yr_renovated</th>\n      <th>zipcode</th>\n      <th>lat</th>\n      <th>long</th>\n      <th>sqft_living15</th>\n      <th>sqft_lot15</th>\n    </tr>\n  </thead>\n  <tbody>\n    <tr>\n      <th>0</th>\n      <td>1974300020</td>\n      <td>20140827T000000</td>\n      <td>4</td>\n      <td>2.50</td>\n      <td>2270</td>\n      <td>11500</td>\n      <td>1.0</td>\n      <td>0</td>\n      <td>0</td>\n      <td>3</td>\n      <td>8</td>\n      <td>1540</td>\n      <td>730</td>\n      <td>1967</td>\n      <td>0</td>\n      <td>98034</td>\n      <td>47.7089</td>\n      <td>-122.241</td>\n      <td>2020</td>\n      <td>10918</td>\n    </tr>\n    <tr>\n      <th>1</th>\n      <td>1974300020</td>\n      <td>20150218T000000</td>\n      <td>4</td>\n      <td>2.50</td>\n      <td>2270</td>\n      <td>11500</td>\n      <td>1.0</td>\n      <td>0</td>\n      <td>0</td>\n      <td>3</td>\n      <td>8</td>\n      <td>1540</td>\n      <td>730</td>\n      <td>1967</td>\n      <td>0</td>\n      <td>98034</td>\n      <td>47.7089</td>\n      <td>-122.241</td>\n      <td>2020</td>\n      <td>10918</td>\n    </tr>\n    <tr>\n      <th>2</th>\n      <td>3630020380</td>\n      <td>20141107T000000</td>\n      <td>3</td>\n      <td>2.50</td>\n      <td>1470</td>\n      <td>1779</td>\n      <td>2.0</td>\n      <td>0</td>\n      <td>0</td>\n      <td>3</td>\n      <td>8</td>\n      <td>1160</td>\n      <td>310</td>\n      <td>2005</td>\n      <td>0</td>\n      <td>98029</td>\n      <td>47.5472</td>\n      <td>-121.998</td>\n      <td>1470</td>\n      <td>1576</td>\n    </tr>\n    <tr>\n      <th>3</th>\n      <td>1771000290</td>\n      <td>20141203T000000</td>\n      <td>3</td>\n      <td>1.75</td>\n      <td>1280</td>\n      <td>16200</td>\n      <td>1.0</td>\n      <td>0</td>\n      <td>0</td>\n      <td>3</td>\n      <td>8</td>\n      <td>1030</td>\n      <td>250</td>\n      <td>1976</td>\n      <td>0</td>\n      <td>98077</td>\n      <td>47.7427</td>\n      <td>-122.071</td>\n      <td>1160</td>\n      <td>10565</td>\n    </tr>\n    <tr>\n      <th>4</th>\n      <td>5126310470</td>\n      <td>20150115T000000</td>\n      <td>4</td>\n      <td>2.75</td>\n      <td>2830</td>\n      <td>8126</td>\n      <td>2.0</td>\n      <td>0</td>\n      <td>0</td>\n      <td>3</td>\n      <td>8</td>\n      <td>2830</td>\n      <td>0</td>\n      <td>2005</td>\n      <td>0</td>\n      <td>98059</td>\n      <td>47.4863</td>\n      <td>-122.140</td>\n      <td>2830</td>\n      <td>7916</td>\n    </tr>\n  </tbody>\n</table>\n</div>"
     },
     "metadata": {},
     "execution_count": 10
    }
   ],
   "source": [
    "holdout = dholdout.drop(columns = 'Unnamed: 0')\n",
    "\n",
    "holdout['bathrooms'] = holdout.bathrooms.apply(lambda x: 1 if x < 1 else x)\n",
    "\n",
    "holdout['bedrooms'] = holdout.bedrooms.apply(lambda x: 3 if x == 33 else x)\n",
    "\n",
    "holdout['bedrooms'] = holdout.bedrooms.apply(lambda x: 1 if x < 1 else x)\n",
    "\n",
    "holdout['grade'] = holdout.grade.apply(lambda x: 4 if x < 4 else x)\n",
    "\n",
    "holdout['adjprice'] = dc.price_adjust(data.price)"
   ]
  },
  {
   "cell_type": "markdown",
   "metadata": {},
   "source": [
    "## Step 3: Predict the holdout set"
   ]
  },
  {
   "cell_type": "code",
   "execution_count": null,
   "metadata": {},
   "outputs": [],
   "source": [
    "# final_answers = final_model.predict(transformed_holdout)"
   ]
  },
  {
   "cell_type": "markdown",
   "metadata": {},
   "source": [
    "## Step 4: Export your predictions"
   ]
  },
  {
   "cell_type": "code",
   "execution_count": null,
   "metadata": {},
   "outputs": [],
   "source": [
    "# final_answer.to_csv('housing_preds_your_name.csv')"
   ]
  }
 ],
 "metadata": {
  "kernelspec": {
   "display_name": "Python 3",
   "language": "python",
   "name": "python3"
  },
  "language_info": {
   "codemirror_mode": {
    "name": "ipython",
    "version": 3
   },
   "file_extension": ".py",
   "mimetype": "text/x-python",
   "name": "python",
   "nbconvert_exporter": "python",
   "pygments_lexer": "ipython3",
   "version": "3.6.9-final"
  }
 },
 "nbformat": 4,
 "nbformat_minor": 2
}
{
 "metadata": {
  "language_info": {
   "codemirror_mode": {
    "name": "ipython",
    "version": 3
   },
   "file_extension": ".py",
   "mimetype": "text/x-python",
   "name": "python",
   "nbconvert_exporter": "python",
   "pygments_lexer": "ipython3",
   "version": "3.6.9-final"
  },
  "orig_nbformat": 2,
  "kernelspec": {
   "name": "Python 3.6.9 64-bit",
   "display_name": "Python 3.6.9 64-bit",
   "metadata": {
    "interpreter": {
     "hash": "9b546e02e2ae7bc31ff393e72c59458abdd61657dbde44a42856f782e397745f"
    }
   }
  }
 },
 "nbformat": 4,
 "nbformat_minor": 2,
 "cells": [
  {
   "cell_type": "code",
   "execution_count": 1,
   "metadata": {},
   "outputs": [],
   "source": [
    "import pandas as pd\n",
    "import numpy as np\n",
    "import matplotlib.pyplot as plt \n",
    "import seaborn as sns\n",
    "from sklearn.model_selection import train_test_split\n",
    "from sklearn.linear_model import LinearRegression\n",
    "from sklearn.dummy import DummyRegressor\n",
    "from sklearn.preprocessing import StandardScaler\n",
    "from sklearn.metrics import mean_squared_error, r2_score\n",
    "from sklearn.preprocessing import PolynomialFeatures\n",
    "from sklearn.feature_selection import f_classif\n",
    "from scipy import stats\n",
    "import model\n",
    "import data_clean as dc"
   ]
  },
  {
   "cell_type": "code",
   "execution_count": 2,
   "metadata": {},
   "outputs": [],
   "source": [
    "data = pd.read_csv('../data/kc_house_data_train.csv')"
   ]
  },
  {
   "cell_type": "code",
   "execution_count": 3,
   "metadata": {},
   "outputs": [],
   "source": [
    "data = data.drop(columns = 'Unnamed: 0')\n",
    "\n",
    "data['bathrooms'] = data.bathrooms.apply(lambda x: 1 if x < 1 else x)\n",
    "\n",
    "data['bedrooms'] = data.bedrooms.apply(lambda x: 3 if x == 33 else x)\n",
    "\n",
    "data['bedrooms'] = data.bedrooms.apply(lambda x: 1 if x < 1 else x)\n",
    "\n",
    "data['grade'] = data.grade.apply(lambda x: 4 if x < 4 else x)\n",
    "\n",
    "data['adjprice'] = dc.price_adjust(data.price)"
   ]
  },
  {
   "cell_type": "code",
   "execution_count": 4,
   "metadata": {},
   "outputs": [],
   "source": [
    "train_set, test_set = train_test_split(data, test_size=0.25, random_state=99, stratify=data.zipcode)"
   ]
  },
  {
   "cell_type": "code",
   "execution_count": 6,
   "metadata": {},
   "outputs": [],
   "source": [
    "train_set['lotlog'] = np.log(train_set.sqft_lot)\n",
    "test_set['lotlog'] = np.log(test_set.sqft_lot)\n",
    "train_set['abovelog'] = np.log(train_set.sqft_above)\n",
    "test_set['abovelog'] = np.log(test_set.sqft_above)\n",
    "\n",
    "zip_dummies = dc.dummy_list(train_set.zipcode, 'zip', 98024)\n",
    "grade_dummies = dc.dummy_list(train_set.grade, 'grade', 4)\n",
    "con_dummies = dc.dummy_list(train_set.condition, 'cond', 1)\n",
    "view_dummies = dc.dummy_list(train_set.view, 'view', 1)\n",
    "month_dummies = dc.month_dummies(train_set.date)\n",
    "\n",
    "testzip_dummies = dc.dummy_list(test_set.zipcode, 'zip', 98024)\n",
    "testgrade_dummies = dc.dummy_list(test_set.grade, 'grade', 4)\n",
    "testcond_dummies = dc.dummy_list(test_set.condition, 'cond', 1)\n",
    "testview_dummies = dc.dummy_list(test_set.view, 'view', 1)\n",
    "testmonth_dummies = dc.month_dummies(test_set.date)"
   ]
  },
  {
   "cell_type": "code",
   "execution_count": 10,
   "metadata": {},
   "outputs": [
    {
     "output_type": "stream",
     "name": "stdout",
     "text": [
      "R Squared:0.8751784223927895 RSME:101027.90208329496\n"
     ]
    }
   ],
   "source": [
    "lr = LinearRegression()\n",
    "\n",
    "y_train = train_set.adjprice\n",
    "\n",
    "poly_columns = pd.concat([train_set[['sqft_living', 'bedrooms', 'bathrooms', 'abovelog', 'lotlog']], con_dummies, view_dummies, month_dummies], axis = 1)\n",
    "\n",
    "X_train_poly = model.polynomialize(poly_columns, 2)\n",
    "\n",
    "X_train_agg = pd.concat([zip_dummies, grade_dummies], axis = 1)\n",
    "\n",
    "X_train_agg.reset_index(drop = True, inplace = True)\n",
    "\n",
    "X_train_agg = pd.concat([X_train_agg, X_train_poly], axis = 1)\n",
    "\n",
    "lr.fit(X_train_agg, y_train)\n",
    "y_pred = lr.predict(X_train_agg)\n",
    "r2 = lr.score(X_train_agg, y_train)\n",
    "rsme = mean_squared_error(y_train, y_pred)\n",
    "print('R Squared:' + str(r2), 'RSME:' + str(rsme**.5))"
   ]
  },
  {
   "cell_type": "code",
   "execution_count": 12,
   "metadata": {},
   "outputs": [
    {
     "output_type": "stream",
     "name": "stdout",
     "text": [
      "R Squared:0.858694385206752 RSME:106734.89261938006\n"
     ]
    }
   ],
   "source": [
    "Y_test = test_set.adjprice\n",
    "\n",
    "X_test_columns = pd.concat([test_set[['sqft_living', 'bedrooms', 'bathrooms', 'abovelog', 'lotlog']], testcond_dummies, testview_dummies, testmonth_dummies], axis = 1)\n",
    "\n",
    "X_test_poly = model.polynomialize(X_test_columns, 2)\n",
    "\n",
    "X_test_agg = pd.concat([testzip_dummies,  testgrade_dummies], axis = 1)\n",
    "\n",
    "X_test_agg.reset_index(drop = True, inplace = True)\n",
    "\n",
    "X_test_agg = pd.concat([X_test_agg, X_test_poly], axis = 1)\n",
    "\n",
    "y_test_pred = lr.predict(X_test_agg)\n",
    "r2 = lr.score(X_test_agg, Y_test)\n",
    "rsme = mean_squared_error(Y_test, y_test_pred)\n",
    "print('R Squared:' + str(r2), 'RSME:' + str((rsme**.5)))"
   ]
  },
  {
   "cell_type": "code",
   "execution_count": 14,
   "metadata": {},
   "outputs": [],
   "source": [
    "import pickle\n",
    "\n",
    "pickle_out = open(\"model.pickle\",\"wb\")\n",
    "pickle.dump(lr, pickle_out)\n",
    "pickle_out.close()"
   ]
  }
 ]
}